{
 "cells": [
  {
   "cell_type": "code",
   "execution_count": null,
   "metadata": {},
   "outputs": [],
   "source": [
    "from detector import load_model, detect\n",
    "import glob\n",
    "from matplotlib import pyplot as plt\n",
    "import cv2\n",
    "%matplotlib inline"
   ]
  },
  {
   "cell_type": "code",
   "execution_count": null,
   "metadata": {},
   "outputs": [],
   "source": [
    "def vis_detections(img_path, outputs):\n",
    "    \"\"\"Draw detected bounding boxes.\"\"\"\n",
    "    im = cv2.imread(img_path)\n",
    "    im = im[:, :, (2, 1, 0)]\n",
    "    fig, ax = plt.subplots(figsize=(6, 6))\n",
    "    ax.imshow(im, aspect='equal')\n",
    "    \n",
    "    for output in outputs:\n",
    "        score = output['score'] \n",
    "        class_name = output['class']\n",
    "        x = output['x']\n",
    "        y = output['y']\n",
    "        width = output['width']\n",
    "        height = output['height']   \n",
    "      \n",
    "\n",
    "        ax.add_patch(\n",
    "            plt.Rectangle((x, y),\n",
    "                          width,\n",
    "                          height, fill=False,\n",
    "                          edgecolor='red', linewidth=3.5)\n",
    "            )\n",
    "        ax.text(x, y - 2,\n",
    "                '{:s} {:.3f}'.format(class_name, score),\n",
    "                bbox=dict(facecolor='blue', alpha=0.5),\n",
    "                fontsize=14, color='white')\n",
    "\n",
    "\n",
    "    plt.axis('off')\n",
    "    plt.tight_layout()\n",
    "    plt.draw()"
   ]
  },
  {
   "cell_type": "code",
   "execution_count": null,
   "metadata": {},
   "outputs": [],
   "source": [
    "model_name = 'faster_rcnn_inception_v2_coco_2017_11_08'\n",
    "sess = load_model(model_name)\n"
   ]
  },
  {
   "cell_type": "code",
   "execution_count": null,
   "metadata": {},
   "outputs": [],
   "source": [
    "TEST_IMAGE_PATHS = glob.glob(\"test_images/*.jpg\")\n",
    "for img_path in TEST_IMAGE_PATHS:\n",
    "    outputs = detect(sess, img_path,roi=(100,100,400,400))\n",
    "    vis_detections(img_path, outputs)"
   ]
  }
 ],
 "metadata": {
  "kernelspec": {
   "display_name": "Python 3",
   "language": "python",
   "name": "python3"
  },
  "language_info": {
   "codemirror_mode": {
    "name": "ipython",
    "version": 3
   },
   "file_extension": ".py",
   "mimetype": "text/x-python",
   "name": "python",
   "nbconvert_exporter": "python",
   "pygments_lexer": "ipython3",
   "version": "3.5.4"
  }
 },
 "nbformat": 4,
 "nbformat_minor": 2
}
