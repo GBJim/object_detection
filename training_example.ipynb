{
 "cells": [
  {
   "cell_type": "code",
   "execution_count": 50,
   "metadata": {
    "collapsed": true
   },
   "outputs": [],
   "source": [
    "import tensorflow as tf\n",
    "from utils import dataset_util\n",
    "from vatic import VaticData\n",
    "import os\n",
    "from scipy.misc import imread\n",
    "import label_map_util\n",
    "import cv2"
   ]
  },
  {
   "cell_type": "code",
   "execution_count": 40,
   "metadata": {},
   "outputs": [
    {
     "name": "stdout",
     "output_type": "stream",
     "text": [
      "Meta data path: /root/data/data-B2HighwayNight/meta.json does not exist. Use Default meta data\n",
      "{'test': {'start': None, 'sets': [1], 'end': None, 'stride': 30}, 'train': {'start': None, 'sets': [0], 'end': None, 'stride': 1}, 'format': 'jpg'}\n",
      "Total: 3160 images\n"
     ]
    }
   ],
   "source": [
    "B = VaticData('B2HighwayNight')"
   ]
  },
  {
   "cell_type": "code",
   "execution_count": 3,
   "metadata": {
    "collapsed": true
   },
   "outputs": [],
   "source": [
    "flags = tf.app.flags\n",
    "#flags.DEFINE_string('output_path', '', 'Path to output TFRecord')\n",
    "FLAGS = flags.FLAGS"
   ]
  },
  {
   "cell_type": "code",
   "execution_count": 58,
   "metadata": {
    "collapsed": true
   },
   "outputs": [],
   "source": [
    "\n",
    "def create_tf_example(bboxes, img_info, category_name2id,class_mapper={}):\n",
    "  # TODO(user): Populate the following variables from your example.\n",
    "  \n",
    "\n",
    "  height = img_info['height']\n",
    "  width = img_info['width']\n",
    "  filename = img_info['path']\n",
    "  with tf.gfile.GFile(filename, 'rb') as fid:\n",
    "    encoded_jpg = fid.read()\n",
    "   \n",
    "  image_format = img_info['format'] \n",
    "  \n",
    "  \n",
    "\n",
    "  xmins = [] # List of normalized left x coordinates in bounding box (1 per box)\n",
    "  xmaxs = [] # List of normalized right x coordinates in bounding box\n",
    "             # (1 per box)\n",
    "  ymins = [] # List of normalized coordinates in bounding box (1 per box)\n",
    "  ymaxs = [] # List of normalized bottom y coordinates in bounding box\n",
    "             # (1 per box)\n",
    "  classes_text = [] # List of string class name of bounding box (1 per box)\n",
    "  classes = [] # List of integer class id of bounding box (1 per box)\n",
    "    \n",
    "  for bbox_id, bbox in bboxes.items():\n",
    "     if bbox['occluded'] == 0 and bbox['outside'] == 0:\n",
    "            \n",
    "        xmin = bbox['x1']\n",
    "        xmax = bbox['x1'] + bbox['width']\n",
    "        ymin = bbox['y1'] \n",
    "        ymax = bbox['y1'] + bbox['height']        \n",
    "        class_text = class_mapper[bbox['label']] if bbox['label'] in class_mapper else bbox['label']\n",
    "        class_id = category_name2id[class_text]\n",
    "       \n",
    "        xmins.append(xmin)\n",
    "        xmaxs.append(xmax)\n",
    "        ymins.append(ymin)\n",
    "        ymaxs.append(ymax)    \n",
    "        classes_text.append(str(class_text))        \n",
    "        classes.append(class_id)\n",
    "\n",
    "\n",
    "  tf_example = tf.train.Example(features=tf.train.Features(feature={\n",
    "      'image/height': dataset_util.int64_feature(height),\n",
    "      'image/width': dataset_util.int64_feature(width),\n",
    "      'image/filename': dataset_util.bytes_feature(filename),\n",
    "      'image/source_id': dataset_util.bytes_feature(filename),\n",
    "      'image/encoded': dataset_util.bytes_feature(encoded_jpg),\n",
    "      'image/format': dataset_util.bytes_feature(image_format),\n",
    "      'image/object/bbox/xmin': dataset_util.float_list_feature(xmins),\n",
    "      'image/object/bbox/xmax': dataset_util.float_list_feature(xmaxs),\n",
    "      'image/object/bbox/ymin': dataset_util.float_list_feature(ymins),\n",
    "      'image/object/bbox/ymax': dataset_util.float_list_feature(ymaxs),\n",
    "      'image/object/class/text': dataset_util.bytes_list_feature(classes_text),\n",
    "      'image/object/class/label': dataset_util.int64_list_feature(classes),\n",
    "  }))\n",
    "  return tf_example"
   ]
  },
  {
   "cell_type": "code",
   "execution_count": 42,
   "metadata": {
    "collapsed": true
   },
   "outputs": [],
   "source": [
    "NUM_CLASSES = 90\n",
    "PATH_TO_LABELS = \"/root/object_detection/data/mscoco_label_map.pbtxt\"\n",
    "label_map = label_map_util.load_labelmap(PATH_TO_LABELS)\n",
    "categories = label_map_util.convert_label_map_to_categories(label_map, max_num_classes=NUM_CLASSES, use_display_name=True)\n",
    "category_index = label_map_util.create_category_index(categories)\n"
   ]
  },
  {
   "cell_type": "code",
   "execution_count": 43,
   "metadata": {},
   "outputs": [
    {
     "data": {
      "text/plain": [
       "[u'trailer-head', u'sedan/suv', u'van']"
      ]
     },
     "execution_count": 43,
     "metadata": {},
     "output_type": "execute_result"
    }
   ],
   "source": [
    "get_category_name2id = lambda category_index: {item['name']: item['id'] for item in category_index.values()}\n",
    "\n",
    "category_name2id = get_category_name2id(category_index)\n",
    "\n",
    "\n",
    "def get_diff_classes(vatic ,category_index):\n",
    "    return list(vatic.class_set - set(category_name2id))\n",
    "get_diff_classes(A, category_index)"
   ]
  },
  {
   "cell_type": "code",
   "execution_count": 44,
   "metadata": {
    "collapsed": true
   },
   "outputs": [],
   "source": [
    "class_mapper = {u'trailer-head': \"truck\", u'sedan/suv': \"car\", u'van': \"car\"}"
   ]
  },
  {
   "cell_type": "code",
   "execution_count": 59,
   "metadata": {
    "collapsed": true
   },
   "outputs": [],
   "source": [
    "#Try to write to TF record\n",
    "output_path = \"./B2HighwayNight.record\"\n",
    "writer = tf.python_io.TFRecordWriter(output_path)\n",
    "img_info = {}\n",
    "#Read the first image\n",
    "img = imread(A.image_path_at(0))\n",
    "\n",
    "img_info[\"height\"], img_info['width'], _ = img.shape\n",
    "img_info[\"format\"] = A.image_path_at(0).split('.')[-1]\n",
    "for i in range(A.size):\n",
    "    img_info['path'] = A.image_path_at(i)\n",
    "  \n",
    "    bboxes = A.bbox_from_index(img_info['path'])\n",
    "    tf_record = create_tf_example(bboxes, img_info, category_name2id, class_mapper)\n",
    "    writer.write(tf_record.SerializeToString())\n",
    "writer.close()"
   ]
  }
 ],
 "metadata": {
  "kernelspec": {
   "display_name": "Python 2",
   "language": "python",
   "name": "python2"
  },
  "language_info": {
   "codemirror_mode": {
    "name": "ipython",
    "version": 2
   },
   "file_extension": ".py",
   "mimetype": "text/x-python",
   "name": "python",
   "nbconvert_exporter": "python",
   "pygments_lexer": "ipython2",
   "version": "2.7.12"
  }
 },
 "nbformat": 4,
 "nbformat_minor": 2
}
